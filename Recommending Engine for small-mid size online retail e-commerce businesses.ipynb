{
 "cells": [
  {
   "cell_type": "markdown",
   "metadata": {},
   "source": [
    "## Implementing a Recommendation System From Usual transaction/sales data"
   ]
  },
  {
   "cell_type": "code",
   "execution_count": 33,
   "metadata": {},
   "outputs": [],
   "source": [
    "__author__ = 'Eduardo Gil González-Madroño'\n",
    "__email__ = 'eggom.profesional@gmail.com'\n",
    "__website__ = 'www.profesordata.com'\n",
    "\n",
    "__copyright__ = 'Copyright 2010'"
   ]
  },
  {
   "cell_type": "markdown",
   "metadata": {},
   "source": [
    "### Coding"
   ]
  },
  {
   "cell_type": "code",
   "execution_count": 1,
   "metadata": {},
   "outputs": [
    {
     "data": {
      "text/html": [
       "<div>\n",
       "<style scoped>\n",
       "    .dataframe tbody tr th:only-of-type {\n",
       "        vertical-align: middle;\n",
       "    }\n",
       "\n",
       "    .dataframe tbody tr th {\n",
       "        vertical-align: top;\n",
       "    }\n",
       "\n",
       "    .dataframe thead th {\n",
       "        text-align: right;\n",
       "    }\n",
       "</style>\n",
       "<table border=\"1\" class=\"dataframe\">\n",
       "  <thead>\n",
       "    <tr style=\"text-align: right;\">\n",
       "      <th></th>\n",
       "      <th>InvoiceNo</th>\n",
       "      <th>StockCode</th>\n",
       "      <th>Description</th>\n",
       "      <th>Quantity</th>\n",
       "      <th>InvoiceDate</th>\n",
       "      <th>UnitPrice</th>\n",
       "      <th>CustomerID</th>\n",
       "      <th>Country</th>\n",
       "    </tr>\n",
       "  </thead>\n",
       "  <tbody>\n",
       "    <tr>\n",
       "      <th>0</th>\n",
       "      <td>573744</td>\n",
       "      <td>21314</td>\n",
       "      <td>SMALL GLASS HEART TRINKET POT</td>\n",
       "      <td>8</td>\n",
       "      <td>2011-11-01 08:16:00</td>\n",
       "      <td>2.10</td>\n",
       "      <td>17733.0</td>\n",
       "      <td>United Kingdom</td>\n",
       "    </tr>\n",
       "    <tr>\n",
       "      <th>1</th>\n",
       "      <td>573744</td>\n",
       "      <td>21704</td>\n",
       "      <td>BAG 250g SWIRLY MARBLES</td>\n",
       "      <td>12</td>\n",
       "      <td>2011-11-01 08:16:00</td>\n",
       "      <td>0.85</td>\n",
       "      <td>17733.0</td>\n",
       "      <td>United Kingdom</td>\n",
       "    </tr>\n",
       "    <tr>\n",
       "      <th>2</th>\n",
       "      <td>573744</td>\n",
       "      <td>21791</td>\n",
       "      <td>VINTAGE HEADS AND TAILS CARD GAME</td>\n",
       "      <td>12</td>\n",
       "      <td>2011-11-01 08:16:00</td>\n",
       "      <td>1.25</td>\n",
       "      <td>17733.0</td>\n",
       "      <td>United Kingdom</td>\n",
       "    </tr>\n",
       "    <tr>\n",
       "      <th>3</th>\n",
       "      <td>573744</td>\n",
       "      <td>21892</td>\n",
       "      <td>TRADITIONAL WOODEN CATCH CUP GAME</td>\n",
       "      <td>12</td>\n",
       "      <td>2011-11-01 08:16:00</td>\n",
       "      <td>1.25</td>\n",
       "      <td>17733.0</td>\n",
       "      <td>United Kingdom</td>\n",
       "    </tr>\n",
       "    <tr>\n",
       "      <th>4</th>\n",
       "      <td>573744</td>\n",
       "      <td>21915</td>\n",
       "      <td>RED  HARMONICA IN BOX</td>\n",
       "      <td>12</td>\n",
       "      <td>2011-11-01 08:16:00</td>\n",
       "      <td>1.25</td>\n",
       "      <td>17733.0</td>\n",
       "      <td>United Kingdom</td>\n",
       "    </tr>\n",
       "    <tr>\n",
       "      <th>5</th>\n",
       "      <td>573744</td>\n",
       "      <td>22065</td>\n",
       "      <td>CHRISTMAS PUDDING TRINKET POT</td>\n",
       "      <td>48</td>\n",
       "      <td>2011-11-01 08:16:00</td>\n",
       "      <td>0.39</td>\n",
       "      <td>17733.0</td>\n",
       "      <td>United Kingdom</td>\n",
       "    </tr>\n",
       "    <tr>\n",
       "      <th>6</th>\n",
       "      <td>573744</td>\n",
       "      <td>22340</td>\n",
       "      <td>NOEL GARLAND PAINTED ZINC</td>\n",
       "      <td>24</td>\n",
       "      <td>2011-11-01 08:16:00</td>\n",
       "      <td>0.39</td>\n",
       "      <td>17733.0</td>\n",
       "      <td>United Kingdom</td>\n",
       "    </tr>\n",
       "    <tr>\n",
       "      <th>7</th>\n",
       "      <td>573744</td>\n",
       "      <td>22577</td>\n",
       "      <td>WOODEN HEART CHRISTMAS SCANDINAVIAN</td>\n",
       "      <td>24</td>\n",
       "      <td>2011-11-01 08:16:00</td>\n",
       "      <td>0.29</td>\n",
       "      <td>17733.0</td>\n",
       "      <td>United Kingdom</td>\n",
       "    </tr>\n",
       "    <tr>\n",
       "      <th>8</th>\n",
       "      <td>573744</td>\n",
       "      <td>22578</td>\n",
       "      <td>WOODEN STAR CHRISTMAS SCANDINAVIAN</td>\n",
       "      <td>24</td>\n",
       "      <td>2011-11-01 08:16:00</td>\n",
       "      <td>0.29</td>\n",
       "      <td>17733.0</td>\n",
       "      <td>United Kingdom</td>\n",
       "    </tr>\n",
       "    <tr>\n",
       "      <th>9</th>\n",
       "      <td>573744</td>\n",
       "      <td>22579</td>\n",
       "      <td>WOODEN TREE CHRISTMAS SCANDINAVIAN</td>\n",
       "      <td>24</td>\n",
       "      <td>2011-11-01 08:16:00</td>\n",
       "      <td>0.29</td>\n",
       "      <td>17733.0</td>\n",
       "      <td>United Kingdom</td>\n",
       "    </tr>\n",
       "  </tbody>\n",
       "</table>\n",
       "</div>"
      ],
      "text/plain": [
       "  InvoiceNo StockCode                          Description  Quantity  \\\n",
       "0    573744     21314        SMALL GLASS HEART TRINKET POT         8   \n",
       "1    573744     21704              BAG 250g SWIRLY MARBLES        12   \n",
       "2    573744     21791   VINTAGE HEADS AND TAILS CARD GAME         12   \n",
       "3    573744     21892   TRADITIONAL WOODEN CATCH CUP GAME         12   \n",
       "4    573744     21915               RED  HARMONICA IN BOX         12   \n",
       "5    573744     22065       CHRISTMAS PUDDING TRINKET POT         48   \n",
       "6    573744     22340           NOEL GARLAND PAINTED ZINC         24   \n",
       "7    573744     22577  WOODEN HEART CHRISTMAS SCANDINAVIAN        24   \n",
       "8    573744     22578   WOODEN STAR CHRISTMAS SCANDINAVIAN        24   \n",
       "9    573744     22579   WOODEN TREE CHRISTMAS SCANDINAVIAN        24   \n",
       "\n",
       "           InvoiceDate  UnitPrice  CustomerID         Country  \n",
       "0  2011-11-01 08:16:00       2.10     17733.0  United Kingdom  \n",
       "1  2011-11-01 08:16:00       0.85     17733.0  United Kingdom  \n",
       "2  2011-11-01 08:16:00       1.25     17733.0  United Kingdom  \n",
       "3  2011-11-01 08:16:00       1.25     17733.0  United Kingdom  \n",
       "4  2011-11-01 08:16:00       1.25     17733.0  United Kingdom  \n",
       "5  2011-11-01 08:16:00       0.39     17733.0  United Kingdom  \n",
       "6  2011-11-01 08:16:00       0.39     17733.0  United Kingdom  \n",
       "7  2011-11-01 08:16:00       0.29     17733.0  United Kingdom  \n",
       "8  2011-11-01 08:16:00       0.29     17733.0  United Kingdom  \n",
       "9  2011-11-01 08:16:00       0.29     17733.0  United Kingdom  "
      ]
     },
     "execution_count": 1,
     "metadata": {},
     "output_type": "execute_result"
    }
   ],
   "source": [
    "# Load the CSV data onto a pd.DF:\n",
    "\n",
    "import numpy as np\n",
    "import pandas as pd\n",
    "sales_transact_data_df = pd.read_csv(\"./data/retail.csv\")\n",
    "\n",
    "sales_transact_data_df.head(10)"
   ]
  },
  {
   "cell_type": "code",
   "execution_count": 2,
   "metadata": {},
   "outputs": [
    {
     "data": {
      "text/plain": [
       "'BAG 250g SWIRLY MARBLES'"
      ]
     },
     "execution_count": 2,
     "metadata": {},
     "output_type": "execute_result"
    }
   ],
   "source": [
    "# Build a dict with keys = StockCode and values = Description.\n",
    "#\n",
    "# This dict will be then useful to extract which product description belongs to a certain product StockCode\n",
    "#\n",
    "# See at the end for dummy_code explanation\n",
    "\n",
    "prod_dict = dict(zip(sales_transact_data_df[\"StockCode\"],sales_transact_data_df[\"Description\"]))\n",
    "prod_dict[\"21704\"]"
   ]
  },
  {
   "cell_type": "code",
   "execution_count": 3,
   "metadata": {},
   "outputs": [
    {
     "name": "stdout",
     "output_type": "stream",
     "text": [
      "Matrix Shape:  (1711, 2704)\n"
     ]
    },
    {
     "data": {
      "text/html": [
       "<div>\n",
       "<style scoped>\n",
       "    .dataframe tbody tr th:only-of-type {\n",
       "        vertical-align: middle;\n",
       "    }\n",
       "\n",
       "    .dataframe tbody tr th {\n",
       "        vertical-align: top;\n",
       "    }\n",
       "\n",
       "    .dataframe thead th {\n",
       "        text-align: right;\n",
       "    }\n",
       "</style>\n",
       "<table border=\"1\" class=\"dataframe\">\n",
       "  <thead>\n",
       "    <tr style=\"text-align: right;\">\n",
       "      <th>StockCode</th>\n",
       "      <th>10080</th>\n",
       "      <th>10120</th>\n",
       "      <th>10124A</th>\n",
       "      <th>10124G</th>\n",
       "      <th>10125</th>\n",
       "      <th>10135</th>\n",
       "      <th>11001</th>\n",
       "      <th>15030</th>\n",
       "      <th>15034</th>\n",
       "      <th>15036</th>\n",
       "      <th>...</th>\n",
       "      <th>90214M</th>\n",
       "      <th>90214N</th>\n",
       "      <th>90214S</th>\n",
       "      <th>BANK CHARGES</th>\n",
       "      <th>C2</th>\n",
       "      <th>CRUK</th>\n",
       "      <th>D</th>\n",
       "      <th>DOT</th>\n",
       "      <th>M</th>\n",
       "      <th>POST</th>\n",
       "    </tr>\n",
       "    <tr>\n",
       "      <th>CustomerID</th>\n",
       "      <th></th>\n",
       "      <th></th>\n",
       "      <th></th>\n",
       "      <th></th>\n",
       "      <th></th>\n",
       "      <th></th>\n",
       "      <th></th>\n",
       "      <th></th>\n",
       "      <th></th>\n",
       "      <th></th>\n",
       "      <th></th>\n",
       "      <th></th>\n",
       "      <th></th>\n",
       "      <th></th>\n",
       "      <th></th>\n",
       "      <th></th>\n",
       "      <th></th>\n",
       "      <th></th>\n",
       "      <th></th>\n",
       "      <th></th>\n",
       "      <th></th>\n",
       "    </tr>\n",
       "  </thead>\n",
       "  <tbody>\n",
       "    <tr>\n",
       "      <th>12349.0</th>\n",
       "      <td>NaN</td>\n",
       "      <td>NaN</td>\n",
       "      <td>NaN</td>\n",
       "      <td>NaN</td>\n",
       "      <td>NaN</td>\n",
       "      <td>NaN</td>\n",
       "      <td>NaN</td>\n",
       "      <td>NaN</td>\n",
       "      <td>NaN</td>\n",
       "      <td>NaN</td>\n",
       "      <td>...</td>\n",
       "      <td>NaN</td>\n",
       "      <td>NaN</td>\n",
       "      <td>NaN</td>\n",
       "      <td>NaN</td>\n",
       "      <td>NaN</td>\n",
       "      <td>NaN</td>\n",
       "      <td>NaN</td>\n",
       "      <td>NaN</td>\n",
       "      <td>NaN</td>\n",
       "      <td>1.0</td>\n",
       "    </tr>\n",
       "    <tr>\n",
       "      <th>12352.0</th>\n",
       "      <td>NaN</td>\n",
       "      <td>NaN</td>\n",
       "      <td>NaN</td>\n",
       "      <td>NaN</td>\n",
       "      <td>NaN</td>\n",
       "      <td>NaN</td>\n",
       "      <td>NaN</td>\n",
       "      <td>NaN</td>\n",
       "      <td>NaN</td>\n",
       "      <td>NaN</td>\n",
       "      <td>...</td>\n",
       "      <td>NaN</td>\n",
       "      <td>NaN</td>\n",
       "      <td>NaN</td>\n",
       "      <td>NaN</td>\n",
       "      <td>NaN</td>\n",
       "      <td>NaN</td>\n",
       "      <td>NaN</td>\n",
       "      <td>NaN</td>\n",
       "      <td>NaN</td>\n",
       "      <td>2.0</td>\n",
       "    </tr>\n",
       "    <tr>\n",
       "      <th>12356.0</th>\n",
       "      <td>NaN</td>\n",
       "      <td>NaN</td>\n",
       "      <td>NaN</td>\n",
       "      <td>NaN</td>\n",
       "      <td>NaN</td>\n",
       "      <td>NaN</td>\n",
       "      <td>NaN</td>\n",
       "      <td>NaN</td>\n",
       "      <td>NaN</td>\n",
       "      <td>NaN</td>\n",
       "      <td>...</td>\n",
       "      <td>NaN</td>\n",
       "      <td>NaN</td>\n",
       "      <td>NaN</td>\n",
       "      <td>NaN</td>\n",
       "      <td>NaN</td>\n",
       "      <td>NaN</td>\n",
       "      <td>NaN</td>\n",
       "      <td>NaN</td>\n",
       "      <td>NaN</td>\n",
       "      <td>NaN</td>\n",
       "    </tr>\n",
       "    <tr>\n",
       "      <th>12357.0</th>\n",
       "      <td>NaN</td>\n",
       "      <td>NaN</td>\n",
       "      <td>NaN</td>\n",
       "      <td>NaN</td>\n",
       "      <td>NaN</td>\n",
       "      <td>NaN</td>\n",
       "      <td>NaN</td>\n",
       "      <td>NaN</td>\n",
       "      <td>NaN</td>\n",
       "      <td>NaN</td>\n",
       "      <td>...</td>\n",
       "      <td>NaN</td>\n",
       "      <td>NaN</td>\n",
       "      <td>NaN</td>\n",
       "      <td>NaN</td>\n",
       "      <td>NaN</td>\n",
       "      <td>NaN</td>\n",
       "      <td>NaN</td>\n",
       "      <td>NaN</td>\n",
       "      <td>NaN</td>\n",
       "      <td>NaN</td>\n",
       "    </tr>\n",
       "    <tr>\n",
       "      <th>12362.0</th>\n",
       "      <td>NaN</td>\n",
       "      <td>NaN</td>\n",
       "      <td>NaN</td>\n",
       "      <td>NaN</td>\n",
       "      <td>NaN</td>\n",
       "      <td>NaN</td>\n",
       "      <td>NaN</td>\n",
       "      <td>NaN</td>\n",
       "      <td>NaN</td>\n",
       "      <td>NaN</td>\n",
       "      <td>...</td>\n",
       "      <td>NaN</td>\n",
       "      <td>NaN</td>\n",
       "      <td>NaN</td>\n",
       "      <td>NaN</td>\n",
       "      <td>NaN</td>\n",
       "      <td>NaN</td>\n",
       "      <td>NaN</td>\n",
       "      <td>NaN</td>\n",
       "      <td>NaN</td>\n",
       "      <td>4.0</td>\n",
       "    </tr>\n",
       "    <tr>\n",
       "      <th>...</th>\n",
       "      <td>...</td>\n",
       "      <td>...</td>\n",
       "      <td>...</td>\n",
       "      <td>...</td>\n",
       "      <td>...</td>\n",
       "      <td>...</td>\n",
       "      <td>...</td>\n",
       "      <td>...</td>\n",
       "      <td>...</td>\n",
       "      <td>...</td>\n",
       "      <td>...</td>\n",
       "      <td>...</td>\n",
       "      <td>...</td>\n",
       "      <td>...</td>\n",
       "      <td>...</td>\n",
       "      <td>...</td>\n",
       "      <td>...</td>\n",
       "      <td>...</td>\n",
       "      <td>...</td>\n",
       "      <td>...</td>\n",
       "      <td>...</td>\n",
       "    </tr>\n",
       "    <tr>\n",
       "      <th>18263.0</th>\n",
       "      <td>NaN</td>\n",
       "      <td>NaN</td>\n",
       "      <td>NaN</td>\n",
       "      <td>NaN</td>\n",
       "      <td>NaN</td>\n",
       "      <td>20.0</td>\n",
       "      <td>NaN</td>\n",
       "      <td>NaN</td>\n",
       "      <td>NaN</td>\n",
       "      <td>NaN</td>\n",
       "      <td>...</td>\n",
       "      <td>NaN</td>\n",
       "      <td>NaN</td>\n",
       "      <td>NaN</td>\n",
       "      <td>NaN</td>\n",
       "      <td>NaN</td>\n",
       "      <td>NaN</td>\n",
       "      <td>NaN</td>\n",
       "      <td>NaN</td>\n",
       "      <td>NaN</td>\n",
       "      <td>NaN</td>\n",
       "    </tr>\n",
       "    <tr>\n",
       "      <th>18270.0</th>\n",
       "      <td>NaN</td>\n",
       "      <td>NaN</td>\n",
       "      <td>NaN</td>\n",
       "      <td>NaN</td>\n",
       "      <td>NaN</td>\n",
       "      <td>NaN</td>\n",
       "      <td>NaN</td>\n",
       "      <td>NaN</td>\n",
       "      <td>NaN</td>\n",
       "      <td>NaN</td>\n",
       "      <td>...</td>\n",
       "      <td>NaN</td>\n",
       "      <td>NaN</td>\n",
       "      <td>NaN</td>\n",
       "      <td>NaN</td>\n",
       "      <td>NaN</td>\n",
       "      <td>NaN</td>\n",
       "      <td>NaN</td>\n",
       "      <td>NaN</td>\n",
       "      <td>NaN</td>\n",
       "      <td>NaN</td>\n",
       "    </tr>\n",
       "    <tr>\n",
       "      <th>18274.0</th>\n",
       "      <td>NaN</td>\n",
       "      <td>NaN</td>\n",
       "      <td>NaN</td>\n",
       "      <td>NaN</td>\n",
       "      <td>NaN</td>\n",
       "      <td>NaN</td>\n",
       "      <td>NaN</td>\n",
       "      <td>NaN</td>\n",
       "      <td>NaN</td>\n",
       "      <td>NaN</td>\n",
       "      <td>...</td>\n",
       "      <td>NaN</td>\n",
       "      <td>NaN</td>\n",
       "      <td>NaN</td>\n",
       "      <td>NaN</td>\n",
       "      <td>NaN</td>\n",
       "      <td>NaN</td>\n",
       "      <td>NaN</td>\n",
       "      <td>NaN</td>\n",
       "      <td>NaN</td>\n",
       "      <td>NaN</td>\n",
       "    </tr>\n",
       "    <tr>\n",
       "      <th>18276.0</th>\n",
       "      <td>NaN</td>\n",
       "      <td>NaN</td>\n",
       "      <td>NaN</td>\n",
       "      <td>NaN</td>\n",
       "      <td>NaN</td>\n",
       "      <td>NaN</td>\n",
       "      <td>NaN</td>\n",
       "      <td>NaN</td>\n",
       "      <td>NaN</td>\n",
       "      <td>NaN</td>\n",
       "      <td>...</td>\n",
       "      <td>NaN</td>\n",
       "      <td>NaN</td>\n",
       "      <td>NaN</td>\n",
       "      <td>NaN</td>\n",
       "      <td>NaN</td>\n",
       "      <td>NaN</td>\n",
       "      <td>NaN</td>\n",
       "      <td>NaN</td>\n",
       "      <td>NaN</td>\n",
       "      <td>NaN</td>\n",
       "    </tr>\n",
       "    <tr>\n",
       "      <th>18283.0</th>\n",
       "      <td>NaN</td>\n",
       "      <td>NaN</td>\n",
       "      <td>NaN</td>\n",
       "      <td>NaN</td>\n",
       "      <td>NaN</td>\n",
       "      <td>NaN</td>\n",
       "      <td>NaN</td>\n",
       "      <td>NaN</td>\n",
       "      <td>NaN</td>\n",
       "      <td>NaN</td>\n",
       "      <td>...</td>\n",
       "      <td>NaN</td>\n",
       "      <td>NaN</td>\n",
       "      <td>NaN</td>\n",
       "      <td>NaN</td>\n",
       "      <td>NaN</td>\n",
       "      <td>NaN</td>\n",
       "      <td>NaN</td>\n",
       "      <td>NaN</td>\n",
       "      <td>NaN</td>\n",
       "      <td>NaN</td>\n",
       "    </tr>\n",
       "  </tbody>\n",
       "</table>\n",
       "<p>1711 rows × 2704 columns</p>\n",
       "</div>"
      ],
      "text/plain": [
       "StockCode   10080  10120  10124A  10124G  10125  10135  11001  15030  15034  \\\n",
       "CustomerID                                                                    \n",
       "12349.0       NaN    NaN     NaN     NaN    NaN    NaN    NaN    NaN    NaN   \n",
       "12352.0       NaN    NaN     NaN     NaN    NaN    NaN    NaN    NaN    NaN   \n",
       "12356.0       NaN    NaN     NaN     NaN    NaN    NaN    NaN    NaN    NaN   \n",
       "12357.0       NaN    NaN     NaN     NaN    NaN    NaN    NaN    NaN    NaN   \n",
       "12362.0       NaN    NaN     NaN     NaN    NaN    NaN    NaN    NaN    NaN   \n",
       "...           ...    ...     ...     ...    ...    ...    ...    ...    ...   \n",
       "18263.0       NaN    NaN     NaN     NaN    NaN   20.0    NaN    NaN    NaN   \n",
       "18270.0       NaN    NaN     NaN     NaN    NaN    NaN    NaN    NaN    NaN   \n",
       "18274.0       NaN    NaN     NaN     NaN    NaN    NaN    NaN    NaN    NaN   \n",
       "18276.0       NaN    NaN     NaN     NaN    NaN    NaN    NaN    NaN    NaN   \n",
       "18283.0       NaN    NaN     NaN     NaN    NaN    NaN    NaN    NaN    NaN   \n",
       "\n",
       "StockCode   15036  ...  90214M  90214N  90214S  BANK CHARGES  C2  CRUK   D  \\\n",
       "CustomerID         ...                                                       \n",
       "12349.0       NaN  ...     NaN     NaN     NaN           NaN NaN   NaN NaN   \n",
       "12352.0       NaN  ...     NaN     NaN     NaN           NaN NaN   NaN NaN   \n",
       "12356.0       NaN  ...     NaN     NaN     NaN           NaN NaN   NaN NaN   \n",
       "12357.0       NaN  ...     NaN     NaN     NaN           NaN NaN   NaN NaN   \n",
       "12362.0       NaN  ...     NaN     NaN     NaN           NaN NaN   NaN NaN   \n",
       "...           ...  ...     ...     ...     ...           ...  ..   ...  ..   \n",
       "18263.0       NaN  ...     NaN     NaN     NaN           NaN NaN   NaN NaN   \n",
       "18270.0       NaN  ...     NaN     NaN     NaN           NaN NaN   NaN NaN   \n",
       "18274.0       NaN  ...     NaN     NaN     NaN           NaN NaN   NaN NaN   \n",
       "18276.0       NaN  ...     NaN     NaN     NaN           NaN NaN   NaN NaN   \n",
       "18283.0       NaN  ...     NaN     NaN     NaN           NaN NaN   NaN NaN   \n",
       "\n",
       "StockCode   DOT   M  POST  \n",
       "CustomerID                 \n",
       "12349.0     NaN NaN   1.0  \n",
       "12352.0     NaN NaN   2.0  \n",
       "12356.0     NaN NaN   NaN  \n",
       "12357.0     NaN NaN   NaN  \n",
       "12362.0     NaN NaN   4.0  \n",
       "...         ...  ..   ...  \n",
       "18263.0     NaN NaN   NaN  \n",
       "18270.0     NaN NaN   NaN  \n",
       "18274.0     NaN NaN   NaN  \n",
       "18276.0     NaN NaN   NaN  \n",
       "18283.0     NaN NaN   NaN  \n",
       "\n",
       "[1711 rows x 2704 columns]"
      ]
     },
     "execution_count": 3,
     "metadata": {},
     "output_type": "execute_result"
    }
   ],
   "source": [
    "# Creation of the matrix customer-product. For this particular dataset the matrix will have:\n",
    "#\n",
    "# On rows: all unique CustomerIDs\n",
    "# On columns: all unique StockCodes\n",
    "# Values of the matrix will be the Quantity of product purchased --> with the aggregation of sum\n",
    "#\n",
    "# Using the .pivot_table to build it\n",
    "\n",
    "cust_prod_mtx_df = sales_transact_data_df.pivot_table(index='CustomerID',\n",
    "                                                      columns='StockCode',\n",
    "                                                      values='Quantity',\n",
    "                                                      aggfunc=\"sum\")\n",
    "print(\"Matrix Shape: \",cust_prod_mtx_df.shape)\n",
    "cust_prod_mtx_df"
   ]
  },
  {
   "cell_type": "code",
   "execution_count": 4,
   "metadata": {},
   "outputs": [],
   "source": [
    "# Getting onto an array:\n",
    "#\n",
    "# The customerIDs (as displayed on the matrix)\n",
    "# The StockCodes (as displayed on the matrix)\n",
    "\n",
    "CustomerID_arr = np.array(cust_prod_mtx_df.index.tolist())\n",
    "StockCode_arr = np.array(cust_prod_mtx_df.columns.tolist())"
   ]
  },
  {
   "cell_type": "code",
   "execution_count": 5,
   "metadata": {},
   "outputs": [
    {
     "name": "stdout",
     "output_type": "stream",
     "text": [
      "# of 0s present:    4571015\n",
      "% of 0s on matrix:  98.8 %\n"
     ]
    },
    {
     "data": {
      "text/plain": [
       "<1711x2704 sparse matrix of type '<class 'numpy.float64'>'\n",
       "\twith 55529 stored elements in COOrdinate format>"
      ]
     },
     "execution_count": 5,
     "metadata": {},
     "output_type": "execute_result"
    }
   ],
   "source": [
    "# Creation of an sparse matrix from the customer-product matrix 'cust_prod_mtx_df':\n",
    "#\n",
    "# 1. Fill the 'NaN' values with zeros on 'cust_prod_mtx_df'. This is due to Python not able to create Sparse Matrixes from\n",
    "#    objects that have NaN. Also, having 'NaN' on this matrix is coherent with the meaning of a customer not buying any of\n",
    "#    this products.\n",
    "\n",
    "cust_prod_mtx_df = cust_prod_mtx_df.fillna(0).copy()\n",
    "\n",
    "# 2. Check the number of 0s present and its proportion over the overall dimensions of the matrix to ensure it is genuinely\n",
    "#    an sparse matrix\n",
    "\n",
    "cust_prod_mtx = cust_prod_mtx_df.values\n",
    "print(\"# of 0s present:   \",sum(sum(cust_prod_mtx==0)))\n",
    "print(\"% of 0s on matrix: \",round(((sum(sum(cust_prod_mtx==0))/(cust_prod_mtx.shape[0]*cust_prod_mtx.shape[1])))*100, 2),\"%\")\n",
    "\n",
    "# 3. Creation of a genuine Python Sparse Matrix using the lib scipy.sparse\n",
    "\n",
    "from scipy.sparse import coo_matrix\n",
    "\n",
    "cust_prod_mtx_sparse = coo_matrix(cust_prod_mtx)\n",
    "cust_prod_mtx_sparse"
   ]
  },
  {
   "cell_type": "code",
   "execution_count": 6,
   "metadata": {},
   "outputs": [
    {
     "data": {
      "text/plain": [
       "((1711, 10), (10,), (10, 2704))"
      ]
     },
     "execution_count": 6,
     "metadata": {},
     "output_type": "execute_result"
    }
   ],
   "source": [
    "# Performing Truncated SVD over the spare matrix:\n",
    "\n",
    "from scipy.sparse.linalg import svds\n",
    "\n",
    "U, s, V_t = svds(cust_prod_mtx,  k=10)\n",
    "\n",
    "U.shape, s.shape, V_t.shape"
   ]
  },
  {
   "cell_type": "code",
   "execution_count": 7,
   "metadata": {},
   "outputs": [
    {
     "name": "stdout",
     "output_type": "stream",
     "text": [
      "S Diag Shape:  (10, 10)\n"
     ]
    },
    {
     "data": {
      "text/plain": [
       "array([[ 5.35933696e-04,  1.28052995e-03,  2.01128431e-05, ...,\n",
       "         5.90257550e-04, -1.52337657e-02,  5.37978794e-02],\n",
       "       [ 4.85998891e-05,  1.20374209e-04,  1.71779851e-06, ...,\n",
       "         5.25221195e-05,  1.44783840e-03,  4.46877775e-03],\n",
       "       [ 6.73127138e-06,  2.04804778e-05,  1.96671604e-07, ...,\n",
       "         7.62166096e-06, -5.78393382e-05,  1.90390914e-04],\n",
       "       ...,\n",
       "       [ 9.24355853e-21,  9.45968109e-19,  9.96428365e-21, ...,\n",
       "        -9.97833217e-19,  2.42406078e-14, -7.54275701e-17],\n",
       "       [-6.49041982e-08, -1.86346004e-07, -1.42547025e-09, ...,\n",
       "        -7.07688783e-08,  6.88413887e-07, -1.37401051e-07],\n",
       "       [ 1.48087850e-03,  4.31613157e-03,  4.29277782e-05, ...,\n",
       "         1.75324423e-03,  3.43191936e-01,  4.95828338e-02]])"
      ]
     },
     "execution_count": 7,
     "metadata": {},
     "output_type": "execute_result"
    }
   ],
   "source": [
    "# Convert the np array 's' onto a diagonal matrix (To recover the A matrix as seen below, 's' must be a diagonal matrix):\n",
    "#\n",
    "# A ~ U x s x V_t\n",
    "\n",
    "s_diag_mtx = np.diag(s)\n",
    "print(\"S Diag Shape: \",(s_diag_mtx.shape))\n",
    "\n",
    "# Rebuild the 'A' matrix (in our case the cust_prod_mtx) using the matrix-product of U, s_diag and V_t\n",
    "#\n",
    "# With this step we have the latent & useful information for our recommender system\n",
    "\n",
    "cust_prod_mtx_svd = U @ s_diag_mtx @ V_t\n",
    "cust_prod_mtx_svd"
   ]
  },
  {
   "cell_type": "code",
   "execution_count": 8,
   "metadata": {},
   "outputs": [
    {
     "data": {
      "text/plain": [
       "True"
      ]
     },
     "execution_count": 8,
     "metadata": {},
     "output_type": "execute_result"
    }
   ],
   "source": [
    "# Checking that our rebuilt matrix shape is equal to the original prod_cust matrix shape\n",
    "cust_prod_mtx_svd.shape == cust_prod_mtx_df.shape"
   ]
  },
  {
   "cell_type": "code",
   "execution_count": 9,
   "metadata": {},
   "outputs": [
    {
     "name": "stdout",
     "output_type": "stream",
     "text": [
      "ID of Target Customer:  12352\n",
      "Cust_Index on the prod-cust matrix:  1 \n",
      "\n",
      "Recommended StockCodes for Customer  12352\n",
      "['22492' '85099B' '22152' '21810' '22356'] \n",
      "\n",
      "Description of Products:\n",
      "MINI PAINT SET VINTAGE \n",
      "JUMBO BAG RED RETROSPOT\n",
      "PLACE SETTING WHITE STAR\n",
      "CHRISTMAS HANGING STAR WITH BELL\n",
      "CHARLOTTE BAG PINK POLKADOT\n"
     ]
    }
   ],
   "source": [
    "# Building the recommender function.\n",
    "#\n",
    "#\n",
    "# The inputs of the function will be:\n",
    "#\n",
    "#   · CustomerID of the customer we want to recommend\n",
    "#   · Number of products to recommend (by default: 5)\n",
    "\n",
    "\n",
    "# Top-Level approach of the function:\n",
    "#\n",
    "# From a given customerID, look for the row of data belonging to her/him in the 'cust_prod_mtx_svd' and present her/him\n",
    "# with the StockCodes whose values in the row are higher (given that the customer has not previously bought the StockCode\n",
    "# recommended)\n",
    "\n",
    "# Obtaining the target customer we want to recommend products:\n",
    "\n",
    "target_cust = 12352\n",
    "\n",
    "print(\"ID of Target Customer: \",target_cust)\n",
    "\n",
    "# Obtain the index in 'CustomerID_ls' where 'target_cust' sits:\n",
    "\n",
    "cust_index = np.where(CustomerID_arr == target_cust)[0][0]\n",
    "print(\"Cust_Index on the prod-cust matrix: \", cust_index,\"\\n\")\n",
    "\n",
    "# Sorting the row in 'cust_prod_mtx_svd' that belongs to 'target_cust' in a descending way:\n",
    "# This row in the 'cust_prod_mtx_svd' actually represents the chance of the customer to purchase a certain product so it is\n",
    "# the core of our recommending system. Hence to sort this row within the matrix to get the indexes that give more chance\n",
    "# of purchasing.\n",
    "\n",
    "cust_purch_chance_index_sort = cust_prod_mtx_svd[cust_index,:].argsort()[::-1]\n",
    "\n",
    "# Create of a boolean mask of the products NOT PURCHASED by 'target_cust'. This is because products already purchased\n",
    "# by the customer might have, within the 'cust_prod_mtx_svd', a high value and it is not pursued a recommendation of\n",
    "# products already purchased in the past.\n",
    "\n",
    "prod_not_purch_by_target_cust_mask = cust_prod_mtx[cust_index, :][cust_purch_chance_index_sort] == 0\n",
    "\n",
    "# Apply that mask over the 'cust_purch_chance_index_sort':\n",
    "\n",
    "rec_prod_index = cust_purch_chance_index_sort[prod_not_purch_by_target_cust_mask]\n",
    "\n",
    "# Use the array of StockCodes ('StockCode_arr') to figure out the StockCodes of the products that belong to those indexes\n",
    "rec_prod_stockcodes = StockCode_arr[rec_prod_index]\n",
    "\n",
    "# Produce the array of StockCodes with the target lenght of products we would like to actually recommend (Default: 5)\n",
    "rec_prod_stockcodes_short = rec_prod_stockcodes[:5]\n",
    "print(\"Recommended StockCodes for Customer \",target_cust)\n",
    "print(rec_prod_stockcodes_short,\"\\n\")\n",
    "\n",
    "# Use that array of stockcodes to iterate over it and get actual product descriptions:\n",
    "\n",
    "print(\"Description of Products:\")\n",
    "for stockcode in rec_prod_stockcodes_short:\n",
    "    print(prod_dict[stockcode])"
   ]
  },
  {
   "cell_type": "code",
   "execution_count": null,
   "metadata": {},
   "outputs": [],
   "source": []
  },
  {
   "cell_type": "code",
   "execution_count": null,
   "metadata": {},
   "outputs": [],
   "source": []
  },
  {
   "cell_type": "code",
   "execution_count": null,
   "metadata": {},
   "outputs": [],
   "source": []
  },
  {
   "cell_type": "code",
   "execution_count": null,
   "metadata": {},
   "outputs": [],
   "source": []
  },
  {
   "cell_type": "code",
   "execution_count": null,
   "metadata": {},
   "outputs": [],
   "source": []
  },
  {
   "cell_type": "code",
   "execution_count": null,
   "metadata": {},
   "outputs": [],
   "source": []
  },
  {
   "cell_type": "markdown",
   "metadata": {},
   "source": [
    "### AUX CODING TO UNDERSTAND SOME CONCEPTS:"
   ]
  },
  {
   "cell_type": "code",
   "execution_count": 11,
   "metadata": {},
   "outputs": [
    {
     "data": {
      "text/plain": [
       "array([1065, 2495,  795, ...,  275, 1047, 1046], dtype=int64)"
      ]
     },
     "execution_count": 11,
     "metadata": {},
     "output_type": "execute_result"
    }
   ],
   "source": [
    "cust_prod_mtx_svd[cust_index,:].argsort()[::-1]"
   ]
  },
  {
   "cell_type": "code",
   "execution_count": 12,
   "metadata": {},
   "outputs": [
    {
     "data": {
      "text/plain": [
       "array(['22492', '85099B', '22152', ..., '21175', '22470', '22469'],\n",
       "      dtype='<U12')"
      ]
     },
     "execution_count": 12,
     "metadata": {},
     "output_type": "execute_result"
    }
   ],
   "source": [
    "StockCode_arr[cust_purch_chance_index_sort]"
   ]
  },
  {
   "cell_type": "code",
   "execution_count": 13,
   "metadata": {},
   "outputs": [
    {
     "data": {
      "text/plain": [
       "array(['21669', '22178', '22624', '22627', '22635', '22668', '22978',\n",
       "       '22982', '23088', '23089', '23096', '23367', '23368', '23559',\n",
       "       'POST'], dtype='<U12')"
      ]
     },
     "execution_count": 13,
     "metadata": {},
     "output_type": "execute_result"
    }
   ],
   "source": [
    "StockCode_arr[cust_prod_mtx[cust_index,:]!=0]"
   ]
  },
  {
   "cell_type": "code",
   "execution_count": 14,
   "metadata": {},
   "outputs": [
    {
     "data": {
      "text/plain": [
       "{10: 'Luis', 20: 'Pedro', 30: 'Juan', 40: 'Alberto'}"
      ]
     },
     "execution_count": 14,
     "metadata": {},
     "output_type": "execute_result"
    }
   ],
   "source": [
    "lista1 = [10,20,30,40]\n",
    "lista2 = [\"Luis\",\"Pedro\",\"Juan\",\"Alberto\"]\n",
    "lista3 = [\"García\",\"Montalvo\",\"Ararate\",\"Crespo\"]\n",
    "\n",
    "dicc = dict(zip(lista1,lista2))\n",
    "\n",
    "dicc"
   ]
  },
  {
   "cell_type": "code",
   "execution_count": 15,
   "metadata": {},
   "outputs": [
    {
     "data": {
      "text/plain": [
       "'Pedro'"
      ]
     },
     "execution_count": 15,
     "metadata": {},
     "output_type": "execute_result"
    }
   ],
   "source": [
    "dicc[20]"
   ]
  },
  {
   "cell_type": "code",
   "execution_count": 16,
   "metadata": {},
   "outputs": [
    {
     "data": {
      "text/plain": [
       "'Luis'"
      ]
     },
     "execution_count": 16,
     "metadata": {},
     "output_type": "execute_result"
    }
   ],
   "source": [
    "a = dicc.get(10)\n",
    "a"
   ]
  },
  {
   "cell_type": "code",
   "execution_count": 17,
   "metadata": {},
   "outputs": [
    {
     "data": {
      "text/plain": [
       "['Luis', 'Pedro', 'Juan', 'Alberto']"
      ]
     },
     "execution_count": 17,
     "metadata": {},
     "output_type": "execute_result"
    }
   ],
   "source": [
    "list(dicc.values())"
   ]
  },
  {
   "cell_type": "code",
   "execution_count": 18,
   "metadata": {},
   "outputs": [
    {
     "data": {
      "text/plain": [
       "['Luis García', 'Pedro Montalvo', 'Juan Ararate', 'Alberto Crespo']"
      ]
     },
     "execution_count": 18,
     "metadata": {},
     "output_type": "execute_result"
    }
   ],
   "source": [
    "res = [n+\" \"+a for n, a in zip(lista2, lista3)]\n",
    "res"
   ]
  },
  {
   "cell_type": "code",
   "execution_count": null,
   "metadata": {},
   "outputs": [],
   "source": []
  },
  {
   "cell_type": "code",
   "execution_count": 19,
   "metadata": {},
   "outputs": [],
   "source": [
    "def area_triangulo(base,altura):\n",
    "    return (base*altura)/2"
   ]
  },
  {
   "cell_type": "code",
   "execution_count": 20,
   "metadata": {},
   "outputs": [
    {
     "data": {
      "text/plain": [
       "6.0"
      ]
     },
     "execution_count": 20,
     "metadata": {},
     "output_type": "execute_result"
    }
   ],
   "source": [
    "area_triangulo(3,4)"
   ]
  },
  {
   "cell_type": "code",
   "execution_count": 21,
   "metadata": {},
   "outputs": [],
   "source": [
    "area_triangulo_lb = lambda base,altura: (base*altura)/2"
   ]
  },
  {
   "cell_type": "code",
   "execution_count": 22,
   "metadata": {},
   "outputs": [
    {
     "data": {
      "text/plain": [
       "6.0"
      ]
     },
     "execution_count": 22,
     "metadata": {},
     "output_type": "execute_result"
    }
   ],
   "source": [
    "area_triangulo_lb(3,4)"
   ]
  },
  {
   "cell_type": "code",
   "execution_count": 23,
   "metadata": {},
   "outputs": [],
   "source": [
    "a = np.array([3,17,4,100,90,7,45,4500])"
   ]
  },
  {
   "cell_type": "code",
   "execution_count": 24,
   "metadata": {},
   "outputs": [
    {
     "data": {
      "text/plain": [
       "array([   3,   17,    4,  100,   90,    7,   45, 4500])"
      ]
     },
     "execution_count": 24,
     "metadata": {},
     "output_type": "execute_result"
    }
   ],
   "source": [
    "a"
   ]
  },
  {
   "cell_type": "code",
   "execution_count": 25,
   "metadata": {},
   "outputs": [
    {
     "data": {
      "text/plain": [
       "array([   3,    4,    7,   17,   45,   90,  100, 4500])"
      ]
     },
     "execution_count": 25,
     "metadata": {},
     "output_type": "execute_result"
    }
   ],
   "source": [
    "np.sort(a)"
   ]
  },
  {
   "cell_type": "code",
   "execution_count": 26,
   "metadata": {},
   "outputs": [
    {
     "data": {
      "text/plain": [
       "array([   3,   17,    4,  100,   90,    7,   45, 4500])"
      ]
     },
     "execution_count": 26,
     "metadata": {},
     "output_type": "execute_result"
    }
   ],
   "source": [
    "a"
   ]
  },
  {
   "cell_type": "code",
   "execution_count": 27,
   "metadata": {},
   "outputs": [],
   "source": [
    "a.sort()"
   ]
  },
  {
   "cell_type": "code",
   "execution_count": 28,
   "metadata": {},
   "outputs": [
    {
     "data": {
      "text/plain": [
       "array([   3,    4,    7,   17,   45,   90,  100, 4500])"
      ]
     },
     "execution_count": 28,
     "metadata": {},
     "output_type": "execute_result"
    }
   ],
   "source": [
    "a"
   ]
  },
  {
   "cell_type": "code",
   "execution_count": 29,
   "metadata": {},
   "outputs": [],
   "source": [
    "a = np.array([3,17,4,100,90,7,45,4500])"
   ]
  },
  {
   "cell_type": "code",
   "execution_count": 30,
   "metadata": {},
   "outputs": [
    {
     "data": {
      "text/plain": [
       "array([   3,   17,    4,  100,   90,    7,   45, 4500])"
      ]
     },
     "execution_count": 30,
     "metadata": {},
     "output_type": "execute_result"
    }
   ],
   "source": [
    "a"
   ]
  },
  {
   "cell_type": "code",
   "execution_count": 31,
   "metadata": {},
   "outputs": [
    {
     "data": {
      "text/plain": [
       "array([0, 2, 5, 1, 6, 4, 3, 7], dtype=int64)"
      ]
     },
     "execution_count": 31,
     "metadata": {},
     "output_type": "execute_result"
    }
   ],
   "source": [
    "np.argsort(a)"
   ]
  },
  {
   "cell_type": "code",
   "execution_count": 32,
   "metadata": {},
   "outputs": [
    {
     "data": {
      "text/plain": [
       "array([4500,  100,   90,   45,   17,    7,    4,    3])"
      ]
     },
     "execution_count": 32,
     "metadata": {},
     "output_type": "execute_result"
    }
   ],
   "source": [
    "a[a.argsort()[::-1]]"
   ]
  },
  {
   "cell_type": "code",
   "execution_count": null,
   "metadata": {},
   "outputs": [],
   "source": []
  }
 ],
 "metadata": {
  "kernelspec": {
   "display_name": "Python 3",
   "language": "python",
   "name": "python3"
  },
  "language_info": {
   "codemirror_mode": {
    "name": "ipython",
    "version": 3
   },
   "file_extension": ".py",
   "mimetype": "text/x-python",
   "name": "python",
   "nbconvert_exporter": "python",
   "pygments_lexer": "ipython3",
   "version": "3.7.7"
  }
 },
 "nbformat": 4,
 "nbformat_minor": 4
}
